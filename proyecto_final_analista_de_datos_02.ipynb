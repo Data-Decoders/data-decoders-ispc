{
  "nbformat": 4,
  "nbformat_minor": 0,
  "metadata": {
    "colab": {
      "provenance": []
    },
    "kernelspec": {
      "name": "python3",
      "display_name": "Python 3"
    },
    "language_info": {
      "name": "python"
    }
  },
  "cells": [
    {
      "cell_type": "markdown",
      "source": [
        "# **Proyecto integrador del módulo Analista de Datos**\n",
        "\n",
        "### Docentes:\n",
        "- Marcos Ugarte\n",
        "- Nahuel Pratta\n",
        "\n",
        "### Alumnos integrantes:\n",
        "- Erick López\n",
        "- Christian Nüesch\n",
        "- Débora Zurita\n"
      ],
      "metadata": {
        "id": "JLGOuO3RDW9f"
      }
    },
    {
      "cell_type": "markdown",
      "source": [
        "<br>\n",
        "<br>\n",
        "<br>\n",
        "\n",
        "---\n",
        "\n",
        "<br>\n",
        "\n",
        "# **Descripción del proyecto**\n"
      ],
      "metadata": {
        "id": "y7TeSz25GIvA"
      }
    },
    {
      "cell_type": "markdown",
      "source": [
        "El proyecto consiste en el análisis a través de diferentes herramientas profesionales, de los datos recolectados a través de un peinado web (o web scrapping) con la información de varias características de automóviles ordenadas en doce diferentes columnas.\n",
        "\n",
        "Este procesamiento y limpieza de los datos para realizar un posterior análisis se realizó con la finalidad de articular lo visto en los diferentes espacios curriculares de la carrera Ciencia de Datos e Inteligencia Artificial. Estos espacios curriculares son \"Estadística y Exploración de Datos\", \"Procesamiento de Datos\" y \"Ciencia de Datos\".\n",
        "\n",
        "<br>\n",
        "\n",
        "**Los objetivos generales del proyecto** son desarrollar la capacidad de organizar y planificar eficazmente, aplicando loss conocimientos para identificar problemas relevantes en el contexto profesional. Se deberá comunicar los hallazgos de manera clara, tanto de forma oral como escrita. Asimismo se busca el razonamiento crítico y desarrollar actitudes importantes como la precisión, la revisión crítica, la tolerancia y el compromiso ético con la igualdad de oportunidades, sin discriminación por sexo, raza o religión, y con atención a la diversidad. Por último, se busca mejorar la capacidad para tomar decisiones y trabajar en equipo, colaborando en entornos multidisciplinares para alcanzar los objetivos propuestos.\n",
        "\n",
        "<br>\n",
        "\n",
        "**Los objetivos específicos del proyecto** son la capacidad de limpiar y transformar los datos crudos para poder eliminar errores, valores atípicos, valores ausentes y demás inconsistencias; para luego aplicar análisis gráficos y descriptivos, y relacionar diferentes variables.\n"
      ],
      "metadata": {
        "id": "kKy9AHTeFpKa"
      }
    },
    {
      "cell_type": "markdown",
      "source": [
        "<br>\n",
        "<br>\n",
        "<br>\n",
        "\n",
        "---\n",
        "\n",
        "<br>\n",
        "\n",
        "# **PRIMERA ENTREGA**\n"
      ],
      "metadata": {
        "id": "uP7vwMgsVo9S"
      }
    },
    {
      "cell_type": "markdown",
      "source": [
        "<br>\n",
        "\n",
        "Para empezar a trabajar con el dataset lo primero que hacemos es importar las librerías de Python que vamos a utilizar.\n"
      ],
      "metadata": {
        "id": "CuXERk3dEvye"
      }
    },
    {
      "cell_type": "code",
      "execution_count": null,
      "metadata": {
        "id": "_6IimXh51U0W"
      },
      "outputs": [],
      "source": [
        "import numpy as np\n",
        "import pandas as pd\n",
        "import matplotlib.pyplot as plt"
      ]
    },
    {
      "cell_type": "markdown",
      "source": [
        "<br>\n",
        "<br>\n",
        "\n",
        "Luego leemos los datos desde el archivo que los contiene, en este caso un archivo de valores separados por comas (csv):\n",
        "\n",
        "\n",
        "```\n",
        "autos_argentina_02.csv\n",
        "```\n",
        "\n"
      ],
      "metadata": {
        "id": "DUqxF9HShsRk"
      }
    },
    {
      "cell_type": "code",
      "source": [
        "data = pd.read_csv('autos_argentina_02.csv')\n",
        "\n",
        "# Código para el caso de que se presenten incompatibilidades con la codificación\n",
        "# del archivo\n",
        "#data = pd.read_csv('autos_argentina_02.csv', delimiter=',', encoding='utf-8')"
      ],
      "metadata": {
        "id": "XSL7CGD2hrtQ"
      },
      "execution_count": null,
      "outputs": []
    },
    {
      "cell_type": "markdown",
      "source": [
        "<br>\n",
        "<br>\n",
        "\n",
        "### **Análisis descriptivo del dataset**"
      ],
      "metadata": {
        "id": "Ks_ccCw4JeGx"
      }
    },
    {
      "cell_type": "markdown",
      "source": [
        "Lo siguiente que vamos a realizar es imprimir los primeros diez registros del dataset para poder hacernos una idea de qué se trata:"
      ],
      "metadata": {
        "id": "ZdRkZEgLjC2e"
      }
    },
    {
      "cell_type": "code",
      "source": [
        "print(data.head(10))"
      ],
      "metadata": {
        "id": "GCS5HEFhiqje"
      },
      "execution_count": null,
      "outputs": []
    },
    {
      "cell_type": "markdown",
      "source": [
        "<br>\n",
        "<br>\n",
        "\n",
        "También podemos imprimir las últimas filas del dataset (tanto para ```head``` como para ```tail``` por defecto siempre se imprimen cinco filas):"
      ],
      "metadata": {
        "id": "Da3daxTcnziQ"
      }
    },
    {
      "cell_type": "code",
      "source": [
        "data.tail()"
      ],
      "metadata": {
        "id": "vaFDCktsoAvp"
      },
      "execution_count": null,
      "outputs": []
    },
    {
      "cell_type": "markdown",
      "source": [
        "<br>\n",
        "<br>\n",
        "\n",
        "Podemos imprimir todo el dataset, aunque *se debe tener cuidado al realizar esta operación* si el dataset es muy grande, ya que todo deberá ser cargado en memoria."
      ],
      "metadata": {
        "id": "dUSwuMOdKgHF"
      }
    },
    {
      "cell_type": "code",
      "source": [
        "print(data.to_string())"
      ],
      "metadata": {
        "id": "Sl7tnf81J1nl"
      },
      "execution_count": null,
      "outputs": []
    },
    {
      "cell_type": "markdown",
      "source": [
        "<br>\n",
        "<br>\n",
        "\n",
        "También vamos a generar una descripción general del dataset:"
      ],
      "metadata": {
        "id": "TDX_98H5O7kq"
      }
    },
    {
      "cell_type": "code",
      "source": [
        "data.describe()"
      ],
      "metadata": {
        "id": "cj22tSNwPHmq"
      },
      "execution_count": null,
      "outputs": []
    },
    {
      "cell_type": "markdown",
      "source": [
        "<br>\n",
        "<br>\n",
        "\n",
        "Con el método ```info()``` podemos ver el número de filas y columnas, el tipo de datos de cada columna, el número de valores no nulos de cada columna y el uso de memoria del dataset:"
      ],
      "metadata": {
        "id": "q-JqPYt5o4EZ"
      }
    },
    {
      "cell_type": "code",
      "source": [
        "data.info()"
      ],
      "metadata": {
        "id": "SROARjrwpRtD"
      },
      "execution_count": null,
      "outputs": []
    },
    {
      "cell_type": "markdown",
      "source": [
        "<br>\n",
        "<br>\n",
        "\n",
        "Se pueden visualizar diferentes características del dataset:"
      ],
      "metadata": {
        "id": "4UZ5gjtoR-Jp"
      }
    },
    {
      "cell_type": "code",
      "source": [
        "# Los nombres de las columnas:\n",
        "data.columns"
      ],
      "metadata": {
        "colab": {
          "base_uri": "https://localhost:8080/"
        },
        "id": "1AHHV5YCEDgh",
        "outputId": "33bbd382-2792-4c74-f407-71f60d177cf8"
      },
      "execution_count": null,
      "outputs": [
        {
          "output_type": "execute_result",
          "data": {
            "text/plain": [
              "Index(['Precio', 'Marca', 'Modelo', 'Año', 'Color', 'Combustible', 'Puertas',\n",
              "       'Caja', 'Motor', 'Carrocería', 'Kilómetros', 'Moneda'],\n",
              "      dtype='object')"
            ]
          },
          "metadata": {},
          "execution_count": 3
        }
      ]
    },
    {
      "cell_type": "markdown",
      "source": [
        "<br>"
      ],
      "metadata": {
        "id": "3CL1-LJrEMdV"
      }
    },
    {
      "cell_type": "code",
      "source": [
        "# La cantidad total de celdas o elementos del dataset:\n",
        "data.size"
      ],
      "metadata": {
        "id": "KFNcPciYSG1Q"
      },
      "execution_count": null,
      "outputs": []
    },
    {
      "cell_type": "markdown",
      "source": [
        "<br>"
      ],
      "metadata": {
        "id": "ysoqi3tfgqE6"
      }
    },
    {
      "cell_type": "code",
      "source": [
        "# Una lista con los nombres de las filas del dataset (en nuestro caso no tiene\n",
        "# mucho sentido esta información, pero sí puede servir para otros casos)\n",
        "data.index"
      ],
      "metadata": {
        "id": "8A4Y1lwlSO3W"
      },
      "execution_count": null,
      "outputs": []
    },
    {
      "cell_type": "markdown",
      "source": [
        "<br>"
      ],
      "metadata": {
        "id": "Y8dtGEbngooN"
      }
    },
    {
      "cell_type": "code",
      "source": [
        "# Con esta instrucción podemos ver si faltan datos en alguna fila\n",
        "data.count(axis='columns')"
      ],
      "metadata": {
        "id": "uI2EZd64TQkD"
      },
      "execution_count": null,
      "outputs": []
    },
    {
      "cell_type": "markdown",
      "source": [
        "<br>"
      ],
      "metadata": {
        "id": "ZNfLICBogm-f"
      }
    },
    {
      "cell_type": "code",
      "source": [
        "# Con esta instrucción podemos ver si faltan datos en alguna columna\n",
        "\n",
        "# En nuestro caso se puede ver que en las columnas 'Color', 'Caja', 'Motor' y\n",
        "# 'Carrocería' hay datos ausentes (en todos los casos el total debe se 510)\n",
        "data.count(axis='index')"
      ],
      "metadata": {
        "id": "cNiSSPo0Tfvf"
      },
      "execution_count": null,
      "outputs": []
    },
    {
      "cell_type": "markdown",
      "source": [
        "<br>"
      ],
      "metadata": {
        "id": "zcglA4a2glFv"
      }
    },
    {
      "cell_type": "code",
      "source": [
        "# Podemos observar qué cantidad hay de cada elemento en cada columna, simplemente\n",
        "# ajustando o indicando la columna a la que nos referimos\n",
        "data.value_counts('Marca')"
      ],
      "metadata": {
        "id": "Wh9H3TOLU5vR"
      },
      "execution_count": null,
      "outputs": []
    },
    {
      "cell_type": "markdown",
      "source": [
        "<br>"
      ],
      "metadata": {
        "id": "1OPzxLungcqE"
      }
    },
    {
      "cell_type": "code",
      "source": [
        "# Podemos obtener exactamente la misma información que antes, pero cambiando la\n",
        "# forma que referenciamos la columna\n",
        "data['Marca'].value_counts()"
      ],
      "metadata": {
        "id": "jG2Mh6LTW4Qo"
      },
      "execution_count": null,
      "outputs": []
    },
    {
      "cell_type": "markdown",
      "source": [
        "<br>"
      ],
      "metadata": {
        "id": "x8L7HxsdiHX_"
      }
    },
    {
      "cell_type": "code",
      "source": [
        "# Valores válidos sobre el total\n",
        "\n",
        "# Esta instancia es un poco más compleja, ya que se debe utiliza una combinación\n",
        "# de varios varios métodos\n",
        "\n",
        "# Como la operación se debe realizar varias veces, empaquetamos todo el código\n",
        "# en una función, y así lo reutilizamos al código\n",
        "\n",
        "def ausentes_y_texto(columna):\n",
        "  columna_analizada = data[columna]\n",
        "  datos_ausentes = columna_analizada.isna().sum()\n",
        "  datos_de_texto = columna_analizada.apply(lambda x: isinstance(x, str)).sum()\n",
        "  print(f'Número de datos ausentes en \"{columna}\": {datos_ausentes}')\n",
        "  print(f'Número de datos de texto en \"{columna}\": {datos_de_texto}')\n",
        "  print('\\n')\n",
        "\n",
        "ausentes_y_texto('Precio')\n",
        "ausentes_y_texto('Año')\n",
        "ausentes_y_texto('Puertas')\n",
        "ausentes_y_texto('Motor')\n",
        "ausentes_y_texto('Kilómetros')\n"
      ],
      "metadata": {
        "id": "ytCD5w0giJHA"
      },
      "execution_count": null,
      "outputs": []
    },
    {
      "cell_type": "markdown",
      "source": [
        "<br>\n",
        "<br>\n",
        "\n",
        "Un ==análisis extra== sería el siguiente: como estamos trabajando con información sobre autos puestos a la venta, sería bueno saber cuántos modelos hay en total disponibles en la plaza, y su marca comercial correspondiente. Para ello realizamos las siguientes operaciones:\n",
        "\n",
        "**Nota:** el renderizador de Google no reconoce la instrucción de Markdown de resaltado (el signo igual doble `==`)"
      ],
      "metadata": {
        "id": "6O8tp6DECaOm"
      }
    },
    {
      "cell_type": "code",
      "source": [
        "# Ajustamos la configuración de \"Pandas\" para mostrar todas las filas\n",
        "\n",
        "# Igual que en un ejemplo anterior, esto hará que se muestren todas las filas\n",
        "# obtenidas, por lo que en determinados casos podría hacer que se consuman\n",
        "# muchos recursos del sistema. En caso que se desee que no ocurra esto, se\n",
        "# comenta esta línea y se vuelva a ejecutar el notebook (ya que \"Pandas\" habrá)\n",
        "# quedado precargado para mostrar todas las filas\n",
        "pd.set_option('display.max_rows', None)\n",
        "\n",
        "# Seleccionamos las columnas relevantes\n",
        "columna_2 = data.iloc[:, 1]  # Segunda columna\n",
        "columna_3 = data.iloc[:, 2]  # Tercera columna\n",
        "\n",
        "# Creamos un DataFrame con las columnas seleccionadas\n",
        "data_seleccion = pd.DataFrame({'Marca': columna_2, 'Modelo': columna_3})\n",
        "\n",
        "# Eliminamos duplicados basados en la tercera columna\n",
        "data_unicos = data_seleccion.drop_duplicates(subset='Modelo')\n",
        "\n",
        "# Imprimimos los valores únicos de la tercera columna y sus valores asociados en la segunda columna\n",
        "print(data_unicos)\n"
      ],
      "metadata": {
        "id": "dn18SWQ1EVfj"
      },
      "execution_count": null,
      "outputs": []
    },
    {
      "cell_type": "markdown",
      "source": [
        "<br>\n",
        "<br>\n",
        "\n",
        "### **Análisis estadísticos del dataset**\n",
        "\n",
        "A partir de aquí se obtienen diferentes datos e informaciones de tipo estadístico del dataset con el que estamos trabajando (siempre para las columnas con datos numéricos)"
      ],
      "metadata": {
        "id": "8Ng3A5nruv42"
      }
    },
    {
      "cell_type": "code",
      "source": [
        "# Menor de los datos\n",
        "\n",
        "# Para la columna \"Motor\" no podemos obtener de momento el valor mínimo porque\n",
        "# hay valores mal registrados (lo mismo va a ocurrir para todos los análisis que\n",
        "# impliquien valores numéricos)\n",
        "\n",
        "data[['Precio', 'Año', 'Puertas', 'Kilómetros']].min()"
      ],
      "metadata": {
        "id": "x3HYEUSvqvF0"
      },
      "execution_count": null,
      "outputs": []
    },
    {
      "cell_type": "markdown",
      "source": [
        "<br>"
      ],
      "metadata": {
        "id": "gAG_z7OLhnrr"
      }
    },
    {
      "cell_type": "code",
      "source": [
        "# Mayor de los datos\n",
        "data[['Precio', 'Año', 'Puertas', 'Kilómetros']].max()"
      ],
      "metadata": {
        "id": "TyMXQfMUwnGU"
      },
      "execution_count": null,
      "outputs": []
    },
    {
      "cell_type": "markdown",
      "source": [
        "<br>"
      ],
      "metadata": {
        "id": "rFgFEXowhrZ6"
      }
    },
    {
      "cell_type": "code",
      "source": [
        "# Media de los datos\n",
        "data[['Precio', 'Año', 'Puertas', 'Kilómetros']].mean()"
      ],
      "metadata": {
        "id": "aJG3pGbYzXR9"
      },
      "execution_count": null,
      "outputs": []
    },
    {
      "cell_type": "markdown",
      "source": [
        "<br>"
      ],
      "metadata": {
        "id": "ByNcqHC3hx2K"
      }
    },
    {
      "cell_type": "code",
      "source": [
        "# La varianza de los datos\n",
        "data[['Precio', 'Año', 'Puertas', 'Kilómetros']].var()"
      ],
      "metadata": {
        "id": "1yWSB8npzUQk"
      },
      "execution_count": null,
      "outputs": []
    },
    {
      "cell_type": "markdown",
      "source": [
        "<br>"
      ],
      "metadata": {
        "id": "PIk10g-ohzl8"
      }
    },
    {
      "cell_type": "code",
      "source": [
        "# La desviación estándar de los datos\n",
        "data[['Precio', 'Año', 'Puertas', 'Kilómetros']].std()"
      ],
      "metadata": {
        "id": "VWAfaxyUzRDY"
      },
      "execution_count": null,
      "outputs": []
    },
    {
      "cell_type": "markdown",
      "source": [
        "<br>"
      ],
      "metadata": {
        "id": "rdgmDUWvh1dn"
      }
    },
    {
      "cell_type": "code",
      "source": [
        "# Aquí volvemos a utilizar el método 'describe()' pero indicándolo de forma\n",
        "# específica las columnas sobre las que queremos trabajar, y obtenemos la\n",
        "# misma información que hasta ahora, pero con el añadido de los cuartiles\n",
        "data[['Precio', 'Año', 'Puertas', 'Kilómetros']].describe()"
      ],
      "metadata": {
        "id": "_1zsS8no1eb6"
      },
      "execution_count": null,
      "outputs": []
    },
    {
      "cell_type": "markdown",
      "source": [
        "<br>\n",
        "<br>\n",
        "<br>\n",
        "\n",
        "---\n",
        "\n",
        "<br>\n",
        "\n",
        "# **SEGUNDA ENTREGA**\n",
        "\n"
      ],
      "metadata": {
        "id": "jOrxtnYtWcTb"
      }
    },
    {
      "cell_type": "markdown",
      "source": [
        "Para esta segunda entrega se procederá a trabajar con las librerías de Python `pandas` y `matplotlib`.\n",
        "\n",
        "En la primera parte de la segunda entrega manipularemos el dataset con el que veníamos trabajando con el objetivo de \"curarlo\" o dejar los datos tratados para poder operar con ellos, por ejemplo generando gráficos  para entenderlos de una manera visual, y por tanto más intuitiva. Este tratamiento de los datos siempre se debe realizar, más aun cuando se trabaja con grandes paquetes de datos, los cuales en la mayoría de los casos incluirán inconsistencias.\n",
        "\n",
        "> **Nota:** en el caso de nuestro dateset, se presentaron todas las inconsistencias estudiadas en el espacio curricular **\"Procesamiento de Datos\"**, excepto que no tenía filas duplicadas, por tanto se va a manipular el dataset original para generar algunos duplicados y poder aplicar lo aprendido; es por eso que para esta segunda entrega se trabajará con el archivo `autos_argentina_02.csv`, que es el mismo que el anterior pero con algunos duplicados.\n",
        "\n",
        "En la segunda parte de esta entrega, como se dijo generaremos una serie de gráficos usando librerías específicas, para poder tener un abordaje visual de los datos trabajados, y entenderlos mejor."
      ],
      "metadata": {
        "id": "Hs9fXGzbuLpr"
      }
    },
    {
      "cell_type": "markdown",
      "source": [
        "<br>\n",
        "<br>\n",
        "\n",
        "## **Primera parte**\n",
        "\n",
        "Para empezar a trabajar con esta segunda entrega, comenzaremos por leer nuevamente el dataset para poder partir de cero con lo que vayamos a hacer.\n"
      ],
      "metadata": {
        "id": "Rgw3yZoM6ai9"
      }
    },
    {
      "cell_type": "code",
      "source": [
        "data = pd.read_csv('autos_argentina_02.csv')"
      ],
      "metadata": {
        "id": "DmeAg-mmZFMN"
      },
      "execution_count": null,
      "outputs": []
    },
    {
      "cell_type": "markdown",
      "source": [
        "<br>\n",
        "<br>\n",
        "\n",
        "### 1) Datos ausentes\n",
        "\n",
        "Lo primero que vamos a abordar es el tratamiento de datos ausentes, lo cual se presenta cuando hay celdas vacías. En este caso las soluciones pueden ser de dos tipos:\n",
        "- rellenar la celda vacía con alguna de las siguientes opciones (entre muchas):\n",
        "- usando la media, la mediana o la moda de los valores de esa columna (estas opciones excepto la moda, son válidas si en la columna tratada los valores son de tipo numérico)\n",
        "- reemplazar directamente valores vacíos\n",
        "- eliminar la fila completa donde se encuentra la celda vacía. Esta solución se utiliza cuando se dispone de grandes volúmenes de datos, por tanto la eliminación de alguna celda vacía no comprometerá la cantidad o la calidad de la información disponible. Es la opción más sencilla y la que utilizamos a lo último, para tener la oportunidad de generar alguna transformación antes\n",
        "\n",
        "En nuestro caso todas las columnas están completas, excepto:\n",
        "- `Color` que le faltan once datos: *para no perder muchos datos, se completarán todos los ausentes con el colo 'Blanco'*\n",
        "- `Caja` que le falta sólo un dato: *aquí reemplazaremos usando la moda*\n",
        "- `Motor` que le faltan diez datos: *también eliminamos todas las filas*\n",
        "- `Carrocería` que le falta sólo un dato: *completamos de manera directa*\n",
        "\n",
        "<br>\n",
        "<br>\n",
        "\n",
        "Comenzamos reemplazando el único dato ausente en la columna `Caja` usando la moda:\n"
      ],
      "metadata": {
        "id": "nv6yuNgILSKr"
      }
    },
    {
      "cell_type": "code",
      "source": [
        "# Calculamos la moda de la columna 'Caja'\n",
        "moda_caja = data['Caja'].mode()[0]  # [0] para obtener el primer valor de la moda\n",
        "                                    # (puede haber varios)\n",
        "\n",
        "# Rellenamos los valores faltantes en la columna 'Caja' con la moda\n",
        "data['Caja'].fillna(moda_caja, inplace=True)\n",
        "\n",
        "# En la fila 213 en la coumna 'Caja' se agrega 'Manual'"
      ],
      "metadata": {
        "id": "nV-_mqviQeyN"
      },
      "execution_count": null,
      "outputs": []
    },
    {
      "cell_type": "markdown",
      "source": [
        "<br>\n",
        "<br>\n",
        "\n",
        "Luego reemplazamos el dato ausente en `Carrocería` de manera directa usando el método de Pandas `loc`:\n"
      ],
      "metadata": {
        "id": "_ARy8VpLTIv5"
      }
    },
    {
      "cell_type": "code",
      "source": [
        "data.loc[280, 'Carrocería'] = 'Hatchback'\n",
        "\n",
        "# En la fila 280 en la coumna 'Carrería' aparece ahora el tipo 'Hatchback'"
      ],
      "metadata": {
        "id": "pk-94pR3TIE4"
      },
      "execution_count": null,
      "outputs": []
    },
    {
      "cell_type": "markdown",
      "source": [
        "<br>\n",
        "<br>\n",
        "\n",
        "Ahora completamos todos los ausentes en la columna `Color` con el color `Blanco`, que sería lo más neutro, igual que antes usando el método `.fillna()`:\n"
      ],
      "metadata": {
        "id": "NJbHQQBzaBOk"
      }
    },
    {
      "source": [
        "data['Color'].fillna('Blanco', inplace=True)"
      ],
      "cell_type": "code",
      "metadata": {
        "id": "-IRwWP7taWLC"
      },
      "execution_count": null,
      "outputs": []
    },
    {
      "cell_type": "markdown",
      "source": [
        "<br>\n",
        "<br>\n",
        "\n",
        "Una vez que agregamos algunos datos en celdas vacías, procedemos a eliminar todas las filas que tienen algún valor ausente usando el método de Pandas `.dropna()`. El parámetro `inplace=True` modifica el dataframe original, sin crear una copia.\n",
        "\n",
        "Faltan algunos datos en la columna `Motor`:\n"
      ],
      "metadata": {
        "id": "ZSK_rQscYWWj"
      }
    },
    {
      "cell_type": "code",
      "source": [
        "data.dropna(inplace=True)"
      ],
      "metadata": {
        "id": "Jw__p58qb3MP"
      },
      "execution_count": null,
      "outputs": []
    },
    {
      "cell_type": "markdown",
      "source": [
        "<br>\n",
        "<br>\n",
        "\n",
        "### 2) Datos en formato incorrecto\n",
        "\n",
        "Este quizás es el punto más complicado que tengamos al momento de darle tratamiento al dataset con el que trabajamos, ya que va implicar pensar una estrategia para dejar los datos limpios.\n",
        "\n",
        "Lo primero que haremos es comprobar el tipo de dato de algunas celdas específicas para averiguar con qué estamos trabajando, usando una combinación de `loc` para acceder al valor de una celda, y `type` para obtener el tipo de dato:\n"
      ],
      "metadata": {
        "id": "SzCwvyftfSvr"
      }
    },
    {
      "cell_type": "code",
      "source": [
        "# type(data.loc[1, 'Motor'])\n",
        "#type(data.loc[2, 'Motor'])\n",
        "type(data.loc[10, 'Motor'])\n",
        "data['Motor'].dtypes"
      ],
      "metadata": {
        "colab": {
          "base_uri": "https://localhost:8080/"
        },
        "id": "CpW8C44womMu",
        "outputId": "094ce71c-3468-4603-a967-b05dca8eba11"
      },
      "execution_count": null,
      "outputs": [
        {
          "output_type": "execute_result",
          "data": {
            "text/plain": [
              "dtype('O')"
            ]
          },
          "metadata": {},
          "execution_count": 95
        }
      ]
    },
    {
      "cell_type": "markdown",
      "source": [
        "Haciendo diferentes pruebas vemos que la columna `Motor` es del tipo de dato `object`, que en nuestro caso se utiliza para representar cadenas de texto.\n",
        "\n",
        "Lo que haremos ahora es pasar todo directamente a `str` para poder manipular el contenido de las celdas, y luego pasar nuevamente todo a formato de `float` que es el que nos interesa:\n"
      ],
      "metadata": {
        "id": "M5EeVgcppPa_"
      }
    },
    {
      "source": [
        "data['Motor'] = data['Motor'].astype(str)"
      ],
      "cell_type": "code",
      "metadata": {
        "id": "IUCyPqIrq51R"
      },
      "execution_count": null,
      "outputs": []
    },
    {
      "cell_type": "markdown",
      "source": [
        "Lo que vamos a hacer es buscar en la columna `Motor` y en todas las celdas donde haya un punto y modificaremos la celda para dejar únicamente el carácter que está antes del punto, el punto, y el carácter siguiente.\n",
        "\n",
        "Para lograr esto vamos a usar una combinación de expresiones regulares y la función `.apply()` de Pandas:\n"
      ],
      "metadata": {
        "id": "TV420ETXtKjP"
      }
    },
    {
      "source": [
        "# Primero debemos importar el módulo 're' para trabajar con expresiones regulares\n",
        "import re\n",
        "\n",
        "# Luego definimos la función que realizará la operación\n",
        "def extraer_alrededor_punto(texto):\n",
        "    match = re.search(r\"(.)\\.(.)\", texto)\n",
        "    if match:\n",
        "        return match.group(0)  # Obtenemos los tres caracteres (antes, punto, después)\n",
        "    else:\n",
        "        return texto  # Devolvemos el texto original si no hay punto\n",
        "\n",
        "data['Motor'] = data['Motor'].apply(extraer_alrededor_punto)\n",
        "#print(data['Motor'].to_string())"
      ],
      "cell_type": "code",
      "metadata": {
        "id": "Ew4zeFf7s7rA"
      },
      "execution_count": null,
      "outputs": []
    },
    {
      "cell_type": "markdown",
      "source": [
        "Ahora tenemos un problema: en algunas celdas se encuentra un valor de tipo `char` con un dígito, pero sin el `.0`, por lo tanto necesitamos una función que nos \"empareje\" esos datos.\n",
        "\n",
        "Para ello volvemos a usar la función `.apply()` y generamos una función que toma un texto como entrada y con `.isdigit()` verifica si el texto contiene solo dígitos.\n",
        "Si es así, devuelve el texto original con `.0` agregado al final, y si no, devuelve el texto original sin modificaciones.\n"
      ],
      "metadata": {
        "id": "HuIk1Pa_xJZB"
      }
    },
    {
      "source": [
        "# Función para emparejar los datos\n",
        "def agregar_punto_cero(texto):\n",
        "    if texto.isdigit():  # Verificamos si el texto contiene solo dígitos\n",
        "        return texto + '.0'  # Agregamos '.0' si es un dígito aislado\n",
        "    else:\n",
        "        return texto  # Devolvemos el texto original si no es un dígito aislado\n",
        "\n",
        "data['Motor'] = data['Motor'].apply(agregar_punto_cero)\n",
        "#print(data['Motor'].to_string())\n",
        "#type(data.loc[13, 'Motor'])"
      ],
      "cell_type": "code",
      "metadata": {
        "id": "PbjHuqsnzIM3"
      },
      "execution_count": null,
      "outputs": []
    },
    {
      "cell_type": "markdown",
      "source": [
        "Pero hasta aquí seguimos teniendo los valores dentro de las celdas de la columna `Motor` como cadenas de caracteres.\n",
        "\n",
        "Para pasar todo a `float` primero necesitamos extraer sólo los números y luego convertirlos a punto flotante, otra vez utilizando las expresiones regulares. Por último con `astype(float, errors='ignore')` intentamos convertir la columna a `float`. El parámetro `errors='ignore'` hace que se ignoren los valores que no se pueden convertir (como los `None` que pueden haber resultado de la extracción):\n"
      ],
      "metadata": {
        "id": "FZE_FhQb1LbM"
      }
    },
    {
      "source": [
        "# Extraemos los números (incluyendo el punto decimal)\n",
        "def extraer_numeros(texto):\n",
        "    match = re.search(r\"\\d+\\.\\d+\", texto)  # Buscamos uno o más dígitos, punto, uno o más dígitos\n",
        "    if match:\n",
        "        return match.group(0)\n",
        "    else:\n",
        "        return None  # Devolvemos None si no hay números\n",
        "\n",
        "data['Motor'] = data['Motor'].apply(extraer_numeros)\n",
        "\n",
        "# Convertimos a float (ignorando los valores no numéricos)\n",
        "data['Motor'] = data['Motor'].astype(float, errors='ignore')\n",
        "\n",
        "print(data['Motor'].to_string())"
      ],
      "cell_type": "code",
      "metadata": {
        "id": "GGjYGEIMwCcS"
      },
      "execution_count": null,
      "outputs": []
    },
    {
      "cell_type": "code",
      "source": [
        "#type(data.loc[13, 'Motor'])\n",
        "data['Motor'].dtypes"
      ],
      "metadata": {
        "colab": {
          "base_uri": "https://localhost:8080/"
        },
        "id": "jjDImWP54tBF",
        "outputId": "e8704d39-e81b-4e97-ed70-621aee3f3cc0"
      },
      "execution_count": null,
      "outputs": [
        {
          "output_type": "execute_result",
          "data": {
            "text/plain": [
              "dtype('float64')"
            ]
          },
          "metadata": {},
          "execution_count": 21
        }
      ]
    },
    {
      "cell_type": "markdown",
      "source": [
        "*Como se puede observar, las operaciones han sido exitosas: tenemos la columna `Motor` sólo con valores de numéricos de punto flotante.*"
      ],
      "metadata": {
        "id": "30rcQU3z4zBI"
      }
    },
    {
      "cell_type": "markdown",
      "source": [
        "<br>\n",
        "<br>\n",
        "\n",
        "### 3) Datos erróneos\n",
        "\n",
        "Este apartado y el siguiente son los más sencillos de realizar.\n",
        "\n",
        "Ahora lo que haremos es centrarnos en la columna `Año`, en la cual podemos observar que existen datos (de tipo entero o `int64`) que han sido cargados erróneamente, con ceros de más.\n"
      ],
      "metadata": {
        "id": "02DBwUGj5uOZ"
      }
    },
    {
      "cell_type": "code",
      "source": [
        "# Hacemos una comprobación rápida del tipo de datos de la columna 'Año'\n",
        "#print(data['Año'].to_string())\n",
        "type(data.loc[13, 'Año'])\n",
        "#data['Año'].dtypes"
      ],
      "metadata": {
        "colab": {
          "base_uri": "https://localhost:8080/"
        },
        "id": "_eA7UzxIAFNQ",
        "outputId": "9bd236e1-8e54-48de-c640-2851000a889c"
      },
      "execution_count": null,
      "outputs": [
        {
          "output_type": "execute_result",
          "data": {
            "text/plain": [
              "numpy.int64"
            ]
          },
          "metadata": {},
          "execution_count": 22
        }
      ]
    },
    {
      "cell_type": "markdown",
      "source": [
        "Lo que haremos es sencillo, comprobaremos si algún valor es mayor que \"3000\" y procederemos entonces a quitarle ceros hasta dejarlo de cuatro dígitos. Esto lo vamos a lograr tomando un valor de año como entrada y si el año es mayor que 3000, entramos en un bucle `while` que se ejecuta mientras el año sea mayor que 9999 (es decir, tenga más de cuatro dígitos). Dentro del bucle, con `año //= 10` hacemos una división entera entre 10, eliminando el último dígito del año, hasta que finalmente obtenemos el año corregido.:\n"
      ],
      "metadata": {
        "id": "1hRtrYoFABAO"
      }
    },
    {
      "cell_type": "code",
      "source": [
        "def corregir_año(año):\n",
        "    if año > 3000:\n",
        "        while año > 9999:\n",
        "            año //= 10  # Dividimos el año entre 10 (elimina el último dígito)\n",
        "    return año\n",
        "\n",
        "data['Año'] = data['Año'].apply(corregir_año)\n",
        "#print(data['Año'].to_string())"
      ],
      "metadata": {
        "id": "F8YQ344b_4Kf"
      },
      "execution_count": null,
      "outputs": []
    },
    {
      "cell_type": "markdown",
      "source": [
        "<br>\n",
        "<br>\n",
        "\n",
        "### 4) Datos duplicados\n",
        "\n",
        "Para el apartado de trabajar con datos duplicados, lo primero que haremos es buscar si hay datos duplicados en el dataset, y lo que más nos interesa, cuántos datos duplicados hay (en el caso de que existan).\n",
        "\n",
        "Para ello, junto con `.duplicate()` usamos el método `.sum()`. En este caso, a la salida de `.duplicate()` Python cuenta los `True` como unos, y los `False` como ceros, por tanto al sumar los unos obtenemos la cantidad de duplicados que hay.\n"
      ],
      "metadata": {
        "id": "1QZO7lS68Sxb"
      }
    },
    {
      "cell_type": "code",
      "source": [
        "print('La cantidad de duplicados es:', data.duplicated().sum())"
      ],
      "metadata": {
        "colab": {
          "base_uri": "https://localhost:8080/"
        },
        "id": "cnRp80pD44fC",
        "outputId": "0d0e1b5f-a0b5-4b6c-d231-5cf8ef5e0434"
      },
      "execution_count": null,
      "outputs": [
        {
          "output_type": "stream",
          "name": "stdout",
          "text": [
            "La cantidad de duplicados es: 3\n"
          ]
        }
      ]
    },
    {
      "cell_type": "markdown",
      "source": [
        "<br>\n",
        "<br>\n",
        "\n",
        "Si se desea ver dónde están los duplicados se puede usar el método `.duplicate()` simplemente, pero por defecto sólo se muestran las primeras y últimas cinco filas para evitar una salida excesivamente larga.\n",
        "\n",
        "Para ver todas las filas,  se puede convertir la salida de `data.duplicate()` (que es una Serie de Pandas) a una lista:\n"
      ],
      "metadata": {
        "id": "gRoKawPb-R6x"
      }
    },
    {
      "cell_type": "code",
      "source": [
        "print(data.duplicated().tolist())"
      ],
      "metadata": {
        "colab": {
          "base_uri": "https://localhost:8080/"
        },
        "id": "YCc56JKT-Zst",
        "outputId": "56df9ed9-24d7-4d83-d3db-6d0100f47607"
      },
      "execution_count": null,
      "outputs": [
        {
          "output_type": "stream",
          "name": "stdout",
          "text": [
            "[False, False, False, False, False, False, False, False, False, False, False, False, False, False, False, False, False, False, False, False, False, False, False, False, False, False, False, False, False, False, False, False, False, False, True, False, False, False, False, False, False, False, False, False, False, False, False, False, False, False, False, False, False, False, False, False, False, False, False, False, False, False, False, False, False, False, False, False, False, False, False, False, False, False, False, False, False, False, False, False, False, False, False, False, False, False, False, False, False, False, False, False, False, False, False, False, False, False, False, False, False, False, False, False, False, False, False, False, False, False, False, False, False, False, False, False, False, False, False, False, False, False, False, False, False, False, False, False, False, False, False, False, False, False, False, False, False, False, False, False, False, False, False, False, False, False, False, False, False, False, False, False, False, False, False, False, False, False, False, False, False, False, False, True, False, False, False, False, False, False, False, False, False, False, False, False, False, False, False, False, False, False, False, False, False, False, False, False, False, False, False, False, False, False, False, False, False, False, False, False, False, False, False, False, False, False, False, False, False, False, False, False, False, False, False, False, False, False, False, False, False, False, False, False, False, False, False, False, False, False, False, False, False, False, False, False, False, False, False, False, False, False, False, False, False, False, False, False, False, False, False, False, False, False, False, False, False, False, False, False, False, False, False, False, False, False, False, False, False, False, False, False, False, False, False, False, False, False, False, False, False, False, False, False, False, False, False, False, False, False, False, False, False, False, False, False, False, False, False, False, False, False, False, False, False, False, False, False, False, False, False, False, False, False, False, False, False, False, False, False, False, False, False, False, False, False, False, False, False, False, False, False, False, False, False, False, False, False, False, False, False, False, False, False, False, False, False, False, False, False, False, False, False, False, False, False, False, False, False, False, False, False, False, False, False, False, False, False, False, False, False, False, False, False, False, False, False, False, False, False, False, False, False, False, False, False, False, False, False, False, False, False, False, True, False, False, False, False, False, False, False, False, False, False, False, False, False, False, False, False, False, False, False, False, False, False, False, False, False, False, False, False, False, False, False, False, False, False, False, False, False, False, False, False, False, False, False, False, False, False, False, False, False, False, False, False, False, False, False, False, False, False, False, False, False, False, False, False, False, False, False, False, False, False, False, False, False, False, False, False, False, False, False, False, False, False, False, False, False, False, False, False, False, False, False, False, False, False, False, False, False, False, False, False, False, False, False, False, False, False, False, False, False]\n"
          ]
        }
      ]
    },
    {
      "cell_type": "markdown",
      "source": [
        "<br>\n",
        "<br>\n",
        "\n",
        "Otra alternativa que existe es cambiar las opciones de Pandas modificándolas para mostrar todas las filas, usando `pd.set_option('display.max_rows', None)`, pero en este caso no nos interesa porque quedaría seteado así Pandas.\n",
        "\n",
        "Por último, una opción muy interesante es iterar e imprimir, permitiendo tener un control más fino sobre cómo se muestra la salida. Se itera sobre la Serie y se imprime cada fila individualmente:\n"
      ],
      "metadata": {
        "id": "Kn92B4UK-wQo"
      }
    },
    {
      "source": [
        "for index, value in data.duplicated().items():\n",
        "    print(f\"Fila {index}: {value}\")"
      ],
      "cell_type": "code",
      "metadata": {
        "id": "gNevpfDY-iku",
        "colab": {
          "base_uri": "https://localhost:8080/"
        },
        "collapsed": true,
        "outputId": "2ddd9c0e-cf64-4568-a147-e25f878dd98c"
      },
      "execution_count": null,
      "outputs": [
        {
          "output_type": "stream",
          "name": "stdout",
          "text": [
            "Fila 1: False\n",
            "Fila 2: False\n",
            "Fila 4: False\n",
            "Fila 5: False\n",
            "Fila 6: False\n",
            "Fila 7: False\n",
            "Fila 8: False\n",
            "Fila 9: False\n",
            "Fila 10: False\n",
            "Fila 11: False\n",
            "Fila 13: False\n",
            "Fila 15: False\n",
            "Fila 17: False\n",
            "Fila 18: False\n",
            "Fila 19: False\n",
            "Fila 20: False\n",
            "Fila 21: False\n",
            "Fila 22: False\n",
            "Fila 23: False\n",
            "Fila 25: False\n",
            "Fila 26: False\n",
            "Fila 27: False\n",
            "Fila 28: False\n",
            "Fila 29: False\n",
            "Fila 30: False\n",
            "Fila 32: False\n",
            "Fila 33: False\n",
            "Fila 35: False\n",
            "Fila 36: False\n",
            "Fila 37: False\n",
            "Fila 38: False\n",
            "Fila 39: False\n",
            "Fila 40: False\n",
            "Fila 41: False\n",
            "Fila 42: True\n",
            "Fila 43: False\n",
            "Fila 44: False\n",
            "Fila 45: False\n",
            "Fila 46: False\n",
            "Fila 47: False\n",
            "Fila 48: False\n",
            "Fila 49: False\n",
            "Fila 50: False\n",
            "Fila 51: False\n",
            "Fila 52: False\n",
            "Fila 53: False\n",
            "Fila 54: False\n",
            "Fila 55: False\n",
            "Fila 58: False\n",
            "Fila 59: False\n",
            "Fila 60: False\n",
            "Fila 61: False\n",
            "Fila 62: False\n",
            "Fila 63: False\n",
            "Fila 64: False\n",
            "Fila 65: False\n",
            "Fila 66: False\n",
            "Fila 67: False\n",
            "Fila 68: False\n",
            "Fila 69: False\n",
            "Fila 70: False\n",
            "Fila 71: False\n",
            "Fila 72: False\n",
            "Fila 73: False\n",
            "Fila 74: False\n",
            "Fila 75: False\n",
            "Fila 76: False\n",
            "Fila 77: False\n",
            "Fila 78: False\n",
            "Fila 79: False\n",
            "Fila 80: False\n",
            "Fila 81: False\n",
            "Fila 82: False\n",
            "Fila 83: False\n",
            "Fila 84: False\n",
            "Fila 85: False\n",
            "Fila 86: False\n",
            "Fila 87: False\n",
            "Fila 88: False\n",
            "Fila 89: False\n",
            "Fila 90: False\n",
            "Fila 91: False\n",
            "Fila 92: False\n",
            "Fila 93: False\n",
            "Fila 94: False\n",
            "Fila 95: False\n",
            "Fila 96: False\n",
            "Fila 97: False\n",
            "Fila 98: False\n",
            "Fila 99: False\n",
            "Fila 100: False\n",
            "Fila 101: False\n",
            "Fila 102: False\n",
            "Fila 103: False\n",
            "Fila 104: False\n",
            "Fila 105: False\n",
            "Fila 106: False\n",
            "Fila 107: False\n",
            "Fila 108: False\n",
            "Fila 109: False\n",
            "Fila 110: False\n",
            "Fila 111: False\n",
            "Fila 112: False\n",
            "Fila 113: False\n",
            "Fila 114: False\n",
            "Fila 115: False\n",
            "Fila 116: False\n",
            "Fila 117: False\n",
            "Fila 118: False\n",
            "Fila 119: False\n",
            "Fila 120: False\n",
            "Fila 121: False\n",
            "Fila 122: False\n",
            "Fila 123: False\n",
            "Fila 124: False\n",
            "Fila 125: False\n",
            "Fila 126: False\n",
            "Fila 127: False\n",
            "Fila 128: False\n",
            "Fila 129: False\n",
            "Fila 130: False\n",
            "Fila 131: False\n",
            "Fila 132: False\n",
            "Fila 133: False\n",
            "Fila 134: False\n",
            "Fila 135: False\n",
            "Fila 136: False\n",
            "Fila 137: False\n",
            "Fila 138: False\n",
            "Fila 139: False\n",
            "Fila 140: False\n",
            "Fila 141: False\n",
            "Fila 142: False\n",
            "Fila 143: False\n",
            "Fila 144: False\n",
            "Fila 145: False\n",
            "Fila 146: False\n",
            "Fila 147: False\n",
            "Fila 148: False\n",
            "Fila 149: False\n",
            "Fila 150: False\n",
            "Fila 151: False\n",
            "Fila 152: False\n",
            "Fila 153: False\n",
            "Fila 154: False\n",
            "Fila 155: False\n",
            "Fila 156: False\n",
            "Fila 157: False\n",
            "Fila 158: False\n",
            "Fila 159: False\n",
            "Fila 160: False\n",
            "Fila 161: False\n",
            "Fila 162: False\n",
            "Fila 163: False\n",
            "Fila 164: False\n",
            "Fila 165: False\n",
            "Fila 166: False\n",
            "Fila 167: False\n",
            "Fila 168: False\n",
            "Fila 169: False\n",
            "Fila 170: False\n",
            "Fila 171: False\n",
            "Fila 172: False\n",
            "Fila 173: True\n",
            "Fila 174: False\n",
            "Fila 175: False\n",
            "Fila 176: False\n",
            "Fila 177: False\n",
            "Fila 178: False\n",
            "Fila 179: False\n",
            "Fila 180: False\n",
            "Fila 181: False\n",
            "Fila 182: False\n",
            "Fila 183: False\n",
            "Fila 184: False\n",
            "Fila 185: False\n",
            "Fila 186: False\n",
            "Fila 187: False\n",
            "Fila 188: False\n",
            "Fila 189: False\n",
            "Fila 190: False\n",
            "Fila 191: False\n",
            "Fila 192: False\n",
            "Fila 193: False\n",
            "Fila 194: False\n",
            "Fila 195: False\n",
            "Fila 196: False\n",
            "Fila 197: False\n",
            "Fila 198: False\n",
            "Fila 199: False\n",
            "Fila 200: False\n",
            "Fila 201: False\n",
            "Fila 202: False\n",
            "Fila 203: False\n",
            "Fila 204: False\n",
            "Fila 205: False\n",
            "Fila 206: False\n",
            "Fila 207: False\n",
            "Fila 208: False\n",
            "Fila 209: False\n",
            "Fila 210: False\n",
            "Fila 211: False\n",
            "Fila 212: False\n",
            "Fila 213: False\n",
            "Fila 214: False\n",
            "Fila 215: False\n",
            "Fila 216: False\n",
            "Fila 217: False\n",
            "Fila 218: False\n",
            "Fila 219: False\n",
            "Fila 220: False\n",
            "Fila 221: False\n",
            "Fila 222: False\n",
            "Fila 223: False\n",
            "Fila 224: False\n",
            "Fila 225: False\n",
            "Fila 226: False\n",
            "Fila 227: False\n",
            "Fila 228: False\n",
            "Fila 229: False\n",
            "Fila 230: False\n",
            "Fila 231: False\n",
            "Fila 232: False\n",
            "Fila 233: False\n",
            "Fila 234: False\n",
            "Fila 235: False\n",
            "Fila 236: False\n",
            "Fila 237: False\n",
            "Fila 238: False\n",
            "Fila 239: False\n",
            "Fila 240: False\n",
            "Fila 241: False\n",
            "Fila 242: False\n",
            "Fila 243: False\n",
            "Fila 244: False\n",
            "Fila 245: False\n",
            "Fila 246: False\n",
            "Fila 247: False\n",
            "Fila 248: False\n",
            "Fila 249: False\n",
            "Fila 250: False\n",
            "Fila 251: False\n",
            "Fila 252: False\n",
            "Fila 253: False\n",
            "Fila 254: False\n",
            "Fila 255: False\n",
            "Fila 256: False\n",
            "Fila 257: False\n",
            "Fila 258: False\n",
            "Fila 259: False\n",
            "Fila 260: False\n",
            "Fila 261: False\n",
            "Fila 262: False\n",
            "Fila 263: False\n",
            "Fila 264: False\n",
            "Fila 265: False\n",
            "Fila 266: False\n",
            "Fila 267: False\n",
            "Fila 268: False\n",
            "Fila 269: False\n",
            "Fila 270: False\n",
            "Fila 271: False\n",
            "Fila 272: False\n",
            "Fila 273: False\n",
            "Fila 274: False\n",
            "Fila 275: False\n",
            "Fila 276: False\n",
            "Fila 277: False\n",
            "Fila 278: False\n",
            "Fila 279: False\n",
            "Fila 280: False\n",
            "Fila 281: False\n",
            "Fila 282: False\n",
            "Fila 283: False\n",
            "Fila 284: False\n",
            "Fila 285: False\n",
            "Fila 286: False\n",
            "Fila 287: False\n",
            "Fila 288: False\n",
            "Fila 289: False\n",
            "Fila 290: False\n",
            "Fila 291: False\n",
            "Fila 292: False\n",
            "Fila 293: False\n",
            "Fila 294: False\n",
            "Fila 295: False\n",
            "Fila 296: False\n",
            "Fila 297: False\n",
            "Fila 298: False\n",
            "Fila 299: False\n",
            "Fila 300: False\n",
            "Fila 301: False\n",
            "Fila 302: False\n",
            "Fila 303: False\n",
            "Fila 304: False\n",
            "Fila 305: False\n",
            "Fila 306: False\n",
            "Fila 307: False\n",
            "Fila 308: False\n",
            "Fila 309: False\n",
            "Fila 310: False\n",
            "Fila 311: False\n",
            "Fila 312: False\n",
            "Fila 313: False\n",
            "Fila 314: False\n",
            "Fila 315: False\n",
            "Fila 316: False\n",
            "Fila 317: False\n",
            "Fila 318: False\n",
            "Fila 319: False\n",
            "Fila 320: False\n",
            "Fila 321: False\n",
            "Fila 322: False\n",
            "Fila 323: False\n",
            "Fila 324: False\n",
            "Fila 325: False\n",
            "Fila 326: False\n",
            "Fila 327: False\n",
            "Fila 328: False\n",
            "Fila 329: False\n",
            "Fila 330: False\n",
            "Fila 331: False\n",
            "Fila 332: False\n",
            "Fila 333: False\n",
            "Fila 334: False\n",
            "Fila 335: False\n",
            "Fila 336: False\n",
            "Fila 337: False\n",
            "Fila 338: False\n",
            "Fila 339: False\n",
            "Fila 340: False\n",
            "Fila 341: False\n",
            "Fila 342: False\n",
            "Fila 343: False\n",
            "Fila 344: False\n",
            "Fila 345: False\n",
            "Fila 346: False\n",
            "Fila 347: False\n",
            "Fila 348: False\n",
            "Fila 349: False\n",
            "Fila 350: False\n",
            "Fila 351: False\n",
            "Fila 352: False\n",
            "Fila 353: False\n",
            "Fila 354: False\n",
            "Fila 355: False\n",
            "Fila 356: False\n",
            "Fila 357: False\n",
            "Fila 358: False\n",
            "Fila 359: False\n",
            "Fila 360: False\n",
            "Fila 361: False\n",
            "Fila 362: False\n",
            "Fila 363: False\n",
            "Fila 364: False\n",
            "Fila 365: False\n",
            "Fila 366: False\n",
            "Fila 367: False\n",
            "Fila 368: False\n",
            "Fila 369: False\n",
            "Fila 370: False\n",
            "Fila 371: False\n",
            "Fila 372: False\n",
            "Fila 373: False\n",
            "Fila 374: False\n",
            "Fila 375: False\n",
            "Fila 376: False\n",
            "Fila 377: False\n",
            "Fila 378: False\n",
            "Fila 379: False\n",
            "Fila 380: False\n",
            "Fila 381: False\n",
            "Fila 382: False\n",
            "Fila 383: False\n",
            "Fila 384: False\n",
            "Fila 385: False\n",
            "Fila 386: False\n",
            "Fila 387: False\n",
            "Fila 388: False\n",
            "Fila 389: False\n",
            "Fila 390: False\n",
            "Fila 391: False\n",
            "Fila 392: False\n",
            "Fila 393: False\n",
            "Fila 394: False\n",
            "Fila 395: False\n",
            "Fila 396: False\n",
            "Fila 397: False\n",
            "Fila 398: False\n",
            "Fila 399: False\n",
            "Fila 400: False\n",
            "Fila 401: False\n",
            "Fila 402: False\n",
            "Fila 403: True\n",
            "Fila 404: False\n",
            "Fila 405: False\n",
            "Fila 406: False\n",
            "Fila 407: False\n",
            "Fila 408: False\n",
            "Fila 409: False\n",
            "Fila 410: False\n",
            "Fila 411: False\n",
            "Fila 412: False\n",
            "Fila 413: False\n",
            "Fila 414: False\n",
            "Fila 415: False\n",
            "Fila 416: False\n",
            "Fila 417: False\n",
            "Fila 418: False\n",
            "Fila 419: False\n",
            "Fila 420: False\n",
            "Fila 421: False\n",
            "Fila 422: False\n",
            "Fila 423: False\n",
            "Fila 424: False\n",
            "Fila 425: False\n",
            "Fila 426: False\n",
            "Fila 427: False\n",
            "Fila 428: False\n",
            "Fila 429: False\n",
            "Fila 430: False\n",
            "Fila 431: False\n",
            "Fila 432: False\n",
            "Fila 433: False\n",
            "Fila 434: False\n",
            "Fila 435: False\n",
            "Fila 436: False\n",
            "Fila 437: False\n",
            "Fila 438: False\n",
            "Fila 439: False\n",
            "Fila 440: False\n",
            "Fila 441: False\n",
            "Fila 442: False\n",
            "Fila 443: False\n",
            "Fila 444: False\n",
            "Fila 445: False\n",
            "Fila 446: False\n",
            "Fila 447: False\n",
            "Fila 448: False\n",
            "Fila 449: False\n",
            "Fila 450: False\n",
            "Fila 451: False\n",
            "Fila 452: False\n",
            "Fila 453: False\n",
            "Fila 454: False\n",
            "Fila 455: False\n",
            "Fila 456: False\n",
            "Fila 457: False\n",
            "Fila 458: False\n",
            "Fila 459: False\n",
            "Fila 460: False\n",
            "Fila 461: False\n",
            "Fila 462: False\n",
            "Fila 463: False\n",
            "Fila 464: False\n",
            "Fila 465: False\n",
            "Fila 466: False\n",
            "Fila 467: False\n",
            "Fila 468: False\n",
            "Fila 469: False\n",
            "Fila 470: False\n",
            "Fila 471: False\n",
            "Fila 472: False\n",
            "Fila 473: False\n",
            "Fila 474: False\n",
            "Fila 475: False\n",
            "Fila 476: False\n",
            "Fila 477: False\n",
            "Fila 478: False\n",
            "Fila 479: False\n",
            "Fila 480: False\n",
            "Fila 481: False\n",
            "Fila 482: False\n",
            "Fila 483: False\n",
            "Fila 484: False\n",
            "Fila 485: False\n",
            "Fila 486: False\n",
            "Fila 487: False\n",
            "Fila 488: False\n",
            "Fila 489: False\n",
            "Fila 490: False\n",
            "Fila 491: False\n",
            "Fila 492: False\n",
            "Fila 493: False\n",
            "Fila 494: False\n",
            "Fila 495: False\n",
            "Fila 496: False\n",
            "Fila 497: False\n",
            "Fila 498: False\n",
            "Fila 499: False\n",
            "Fila 500: False\n",
            "Fila 501: False\n",
            "Fila 502: False\n",
            "Fila 503: False\n",
            "Fila 504: False\n",
            "Fila 505: False\n",
            "Fila 506: False\n",
            "Fila 507: False\n",
            "Fila 508: False\n",
            "Fila 509: False\n",
            "Fila 510: False\n",
            "Fila 511: False\n",
            "Fila 512: False\n"
          ]
        }
      ]
    },
    {
      "cell_type": "markdown",
      "source": [
        "<br>\n",
        "<br>\n",
        "\n",
        "Con las filas duplicadas no es mucho lo que se puede hacer, simplemente procedemos a eliminarlas:\n"
      ],
      "metadata": {
        "id": "v7HYSBTPBeJW"
      }
    },
    {
      "cell_type": "code",
      "source": [
        "data.drop_duplicates(inplace = True)\n",
        "\n",
        "# Volvemos a imprimir la serie para comprobar que las filas duplicadas fueron eliminadas:\n",
        "for index, value in data.duplicated().items():\n",
        "    print(f\"Fila {index}: {value}\")"
      ],
      "metadata": {
        "id": "Bsc3MSrcBfaH",
        "colab": {
          "base_uri": "https://localhost:8080/"
        },
        "collapsed": true,
        "outputId": "6f08ea1a-dad2-4e00-f195-a6b9a917407c"
      },
      "execution_count": null,
      "outputs": [
        {
          "output_type": "stream",
          "name": "stdout",
          "text": [
            "Fila 1: False\n",
            "Fila 2: False\n",
            "Fila 4: False\n",
            "Fila 5: False\n",
            "Fila 6: False\n",
            "Fila 7: False\n",
            "Fila 8: False\n",
            "Fila 9: False\n",
            "Fila 10: False\n",
            "Fila 11: False\n",
            "Fila 13: False\n",
            "Fila 15: False\n",
            "Fila 17: False\n",
            "Fila 18: False\n",
            "Fila 19: False\n",
            "Fila 20: False\n",
            "Fila 21: False\n",
            "Fila 22: False\n",
            "Fila 23: False\n",
            "Fila 25: False\n",
            "Fila 26: False\n",
            "Fila 27: False\n",
            "Fila 28: False\n",
            "Fila 29: False\n",
            "Fila 30: False\n",
            "Fila 32: False\n",
            "Fila 33: False\n",
            "Fila 35: False\n",
            "Fila 36: False\n",
            "Fila 37: False\n",
            "Fila 38: False\n",
            "Fila 39: False\n",
            "Fila 40: False\n",
            "Fila 41: False\n",
            "Fila 43: False\n",
            "Fila 44: False\n",
            "Fila 45: False\n",
            "Fila 46: False\n",
            "Fila 47: False\n",
            "Fila 48: False\n",
            "Fila 49: False\n",
            "Fila 50: False\n",
            "Fila 51: False\n",
            "Fila 52: False\n",
            "Fila 53: False\n",
            "Fila 54: False\n",
            "Fila 55: False\n",
            "Fila 58: False\n",
            "Fila 59: False\n",
            "Fila 60: False\n",
            "Fila 61: False\n",
            "Fila 62: False\n",
            "Fila 63: False\n",
            "Fila 64: False\n",
            "Fila 65: False\n",
            "Fila 66: False\n",
            "Fila 67: False\n",
            "Fila 68: False\n",
            "Fila 69: False\n",
            "Fila 70: False\n",
            "Fila 71: False\n",
            "Fila 72: False\n",
            "Fila 73: False\n",
            "Fila 74: False\n",
            "Fila 75: False\n",
            "Fila 76: False\n",
            "Fila 77: False\n",
            "Fila 78: False\n",
            "Fila 79: False\n",
            "Fila 80: False\n",
            "Fila 81: False\n",
            "Fila 82: False\n",
            "Fila 83: False\n",
            "Fila 84: False\n",
            "Fila 85: False\n",
            "Fila 86: False\n",
            "Fila 87: False\n",
            "Fila 88: False\n",
            "Fila 89: False\n",
            "Fila 90: False\n",
            "Fila 91: False\n",
            "Fila 92: False\n",
            "Fila 93: False\n",
            "Fila 94: False\n",
            "Fila 95: False\n",
            "Fila 96: False\n",
            "Fila 97: False\n",
            "Fila 98: False\n",
            "Fila 99: False\n",
            "Fila 100: False\n",
            "Fila 101: False\n",
            "Fila 102: False\n",
            "Fila 103: False\n",
            "Fila 104: False\n",
            "Fila 105: False\n",
            "Fila 106: False\n",
            "Fila 107: False\n",
            "Fila 108: False\n",
            "Fila 109: False\n",
            "Fila 110: False\n",
            "Fila 111: False\n",
            "Fila 112: False\n",
            "Fila 113: False\n",
            "Fila 114: False\n",
            "Fila 115: False\n",
            "Fila 116: False\n",
            "Fila 117: False\n",
            "Fila 118: False\n",
            "Fila 119: False\n",
            "Fila 120: False\n",
            "Fila 121: False\n",
            "Fila 122: False\n",
            "Fila 123: False\n",
            "Fila 124: False\n",
            "Fila 125: False\n",
            "Fila 126: False\n",
            "Fila 127: False\n",
            "Fila 128: False\n",
            "Fila 129: False\n",
            "Fila 130: False\n",
            "Fila 131: False\n",
            "Fila 132: False\n",
            "Fila 133: False\n",
            "Fila 134: False\n",
            "Fila 135: False\n",
            "Fila 136: False\n",
            "Fila 137: False\n",
            "Fila 138: False\n",
            "Fila 139: False\n",
            "Fila 140: False\n",
            "Fila 141: False\n",
            "Fila 142: False\n",
            "Fila 143: False\n",
            "Fila 144: False\n",
            "Fila 145: False\n",
            "Fila 146: False\n",
            "Fila 147: False\n",
            "Fila 148: False\n",
            "Fila 149: False\n",
            "Fila 150: False\n",
            "Fila 151: False\n",
            "Fila 152: False\n",
            "Fila 153: False\n",
            "Fila 154: False\n",
            "Fila 155: False\n",
            "Fila 156: False\n",
            "Fila 157: False\n",
            "Fila 158: False\n",
            "Fila 159: False\n",
            "Fila 160: False\n",
            "Fila 161: False\n",
            "Fila 162: False\n",
            "Fila 163: False\n",
            "Fila 164: False\n",
            "Fila 165: False\n",
            "Fila 166: False\n",
            "Fila 167: False\n",
            "Fila 168: False\n",
            "Fila 169: False\n",
            "Fila 170: False\n",
            "Fila 171: False\n",
            "Fila 172: False\n",
            "Fila 174: False\n",
            "Fila 175: False\n",
            "Fila 176: False\n",
            "Fila 177: False\n",
            "Fila 178: False\n",
            "Fila 179: False\n",
            "Fila 180: False\n",
            "Fila 181: False\n",
            "Fila 182: False\n",
            "Fila 183: False\n",
            "Fila 184: False\n",
            "Fila 185: False\n",
            "Fila 186: False\n",
            "Fila 187: False\n",
            "Fila 188: False\n",
            "Fila 189: False\n",
            "Fila 190: False\n",
            "Fila 191: False\n",
            "Fila 192: False\n",
            "Fila 193: False\n",
            "Fila 194: False\n",
            "Fila 195: False\n",
            "Fila 196: False\n",
            "Fila 197: False\n",
            "Fila 198: False\n",
            "Fila 199: False\n",
            "Fila 200: False\n",
            "Fila 201: False\n",
            "Fila 202: False\n",
            "Fila 203: False\n",
            "Fila 204: False\n",
            "Fila 205: False\n",
            "Fila 206: False\n",
            "Fila 207: False\n",
            "Fila 208: False\n",
            "Fila 209: False\n",
            "Fila 210: False\n",
            "Fila 211: False\n",
            "Fila 212: False\n",
            "Fila 213: False\n",
            "Fila 214: False\n",
            "Fila 215: False\n",
            "Fila 216: False\n",
            "Fila 217: False\n",
            "Fila 218: False\n",
            "Fila 219: False\n",
            "Fila 220: False\n",
            "Fila 221: False\n",
            "Fila 222: False\n",
            "Fila 223: False\n",
            "Fila 224: False\n",
            "Fila 225: False\n",
            "Fila 226: False\n",
            "Fila 227: False\n",
            "Fila 228: False\n",
            "Fila 229: False\n",
            "Fila 230: False\n",
            "Fila 231: False\n",
            "Fila 232: False\n",
            "Fila 233: False\n",
            "Fila 234: False\n",
            "Fila 235: False\n",
            "Fila 236: False\n",
            "Fila 237: False\n",
            "Fila 238: False\n",
            "Fila 239: False\n",
            "Fila 240: False\n",
            "Fila 241: False\n",
            "Fila 242: False\n",
            "Fila 243: False\n",
            "Fila 244: False\n",
            "Fila 245: False\n",
            "Fila 246: False\n",
            "Fila 247: False\n",
            "Fila 248: False\n",
            "Fila 249: False\n",
            "Fila 250: False\n",
            "Fila 251: False\n",
            "Fila 252: False\n",
            "Fila 253: False\n",
            "Fila 254: False\n",
            "Fila 255: False\n",
            "Fila 256: False\n",
            "Fila 257: False\n",
            "Fila 258: False\n",
            "Fila 259: False\n",
            "Fila 260: False\n",
            "Fila 261: False\n",
            "Fila 262: False\n",
            "Fila 263: False\n",
            "Fila 264: False\n",
            "Fila 265: False\n",
            "Fila 266: False\n",
            "Fila 267: False\n",
            "Fila 268: False\n",
            "Fila 269: False\n",
            "Fila 270: False\n",
            "Fila 271: False\n",
            "Fila 272: False\n",
            "Fila 273: False\n",
            "Fila 274: False\n",
            "Fila 275: False\n",
            "Fila 276: False\n",
            "Fila 277: False\n",
            "Fila 278: False\n",
            "Fila 279: False\n",
            "Fila 280: False\n",
            "Fila 281: False\n",
            "Fila 282: False\n",
            "Fila 283: False\n",
            "Fila 284: False\n",
            "Fila 285: False\n",
            "Fila 286: False\n",
            "Fila 287: False\n",
            "Fila 288: False\n",
            "Fila 289: False\n",
            "Fila 290: False\n",
            "Fila 291: False\n",
            "Fila 292: False\n",
            "Fila 293: False\n",
            "Fila 294: False\n",
            "Fila 295: False\n",
            "Fila 296: False\n",
            "Fila 297: False\n",
            "Fila 298: False\n",
            "Fila 299: False\n",
            "Fila 300: False\n",
            "Fila 301: False\n",
            "Fila 302: False\n",
            "Fila 303: False\n",
            "Fila 304: False\n",
            "Fila 305: False\n",
            "Fila 306: False\n",
            "Fila 307: False\n",
            "Fila 308: False\n",
            "Fila 309: False\n",
            "Fila 310: False\n",
            "Fila 311: False\n",
            "Fila 312: False\n",
            "Fila 313: False\n",
            "Fila 314: False\n",
            "Fila 315: False\n",
            "Fila 316: False\n",
            "Fila 317: False\n",
            "Fila 318: False\n",
            "Fila 319: False\n",
            "Fila 320: False\n",
            "Fila 321: False\n",
            "Fila 322: False\n",
            "Fila 323: False\n",
            "Fila 324: False\n",
            "Fila 325: False\n",
            "Fila 326: False\n",
            "Fila 327: False\n",
            "Fila 328: False\n",
            "Fila 329: False\n",
            "Fila 330: False\n",
            "Fila 331: False\n",
            "Fila 332: False\n",
            "Fila 333: False\n",
            "Fila 334: False\n",
            "Fila 335: False\n",
            "Fila 336: False\n",
            "Fila 337: False\n",
            "Fila 338: False\n",
            "Fila 339: False\n",
            "Fila 340: False\n",
            "Fila 341: False\n",
            "Fila 342: False\n",
            "Fila 343: False\n",
            "Fila 344: False\n",
            "Fila 345: False\n",
            "Fila 346: False\n",
            "Fila 347: False\n",
            "Fila 348: False\n",
            "Fila 349: False\n",
            "Fila 350: False\n",
            "Fila 351: False\n",
            "Fila 352: False\n",
            "Fila 353: False\n",
            "Fila 354: False\n",
            "Fila 355: False\n",
            "Fila 356: False\n",
            "Fila 357: False\n",
            "Fila 358: False\n",
            "Fila 359: False\n",
            "Fila 360: False\n",
            "Fila 361: False\n",
            "Fila 362: False\n",
            "Fila 363: False\n",
            "Fila 364: False\n",
            "Fila 365: False\n",
            "Fila 366: False\n",
            "Fila 367: False\n",
            "Fila 368: False\n",
            "Fila 369: False\n",
            "Fila 370: False\n",
            "Fila 371: False\n",
            "Fila 372: False\n",
            "Fila 373: False\n",
            "Fila 374: False\n",
            "Fila 375: False\n",
            "Fila 376: False\n",
            "Fila 377: False\n",
            "Fila 378: False\n",
            "Fila 379: False\n",
            "Fila 380: False\n",
            "Fila 381: False\n",
            "Fila 382: False\n",
            "Fila 383: False\n",
            "Fila 384: False\n",
            "Fila 385: False\n",
            "Fila 386: False\n",
            "Fila 387: False\n",
            "Fila 388: False\n",
            "Fila 389: False\n",
            "Fila 390: False\n",
            "Fila 391: False\n",
            "Fila 392: False\n",
            "Fila 393: False\n",
            "Fila 394: False\n",
            "Fila 395: False\n",
            "Fila 396: False\n",
            "Fila 397: False\n",
            "Fila 398: False\n",
            "Fila 399: False\n",
            "Fila 400: False\n",
            "Fila 401: False\n",
            "Fila 402: False\n",
            "Fila 404: False\n",
            "Fila 405: False\n",
            "Fila 406: False\n",
            "Fila 407: False\n",
            "Fila 408: False\n",
            "Fila 409: False\n",
            "Fila 410: False\n",
            "Fila 411: False\n",
            "Fila 412: False\n",
            "Fila 413: False\n",
            "Fila 414: False\n",
            "Fila 415: False\n",
            "Fila 416: False\n",
            "Fila 417: False\n",
            "Fila 418: False\n",
            "Fila 419: False\n",
            "Fila 420: False\n",
            "Fila 421: False\n",
            "Fila 422: False\n",
            "Fila 423: False\n",
            "Fila 424: False\n",
            "Fila 425: False\n",
            "Fila 426: False\n",
            "Fila 427: False\n",
            "Fila 428: False\n",
            "Fila 429: False\n",
            "Fila 430: False\n",
            "Fila 431: False\n",
            "Fila 432: False\n",
            "Fila 433: False\n",
            "Fila 434: False\n",
            "Fila 435: False\n",
            "Fila 436: False\n",
            "Fila 437: False\n",
            "Fila 438: False\n",
            "Fila 439: False\n",
            "Fila 440: False\n",
            "Fila 441: False\n",
            "Fila 442: False\n",
            "Fila 443: False\n",
            "Fila 444: False\n",
            "Fila 445: False\n",
            "Fila 446: False\n",
            "Fila 447: False\n",
            "Fila 448: False\n",
            "Fila 449: False\n",
            "Fila 450: False\n",
            "Fila 451: False\n",
            "Fila 452: False\n",
            "Fila 453: False\n",
            "Fila 454: False\n",
            "Fila 455: False\n",
            "Fila 456: False\n",
            "Fila 457: False\n",
            "Fila 458: False\n",
            "Fila 459: False\n",
            "Fila 460: False\n",
            "Fila 461: False\n",
            "Fila 462: False\n",
            "Fila 463: False\n",
            "Fila 464: False\n",
            "Fila 465: False\n",
            "Fila 466: False\n",
            "Fila 467: False\n",
            "Fila 468: False\n",
            "Fila 469: False\n",
            "Fila 470: False\n",
            "Fila 471: False\n",
            "Fila 472: False\n",
            "Fila 473: False\n",
            "Fila 474: False\n",
            "Fila 475: False\n",
            "Fila 476: False\n",
            "Fila 477: False\n",
            "Fila 478: False\n",
            "Fila 479: False\n",
            "Fila 480: False\n",
            "Fila 481: False\n",
            "Fila 482: False\n",
            "Fila 483: False\n",
            "Fila 484: False\n",
            "Fila 485: False\n",
            "Fila 486: False\n",
            "Fila 487: False\n",
            "Fila 488: False\n",
            "Fila 489: False\n",
            "Fila 490: False\n",
            "Fila 491: False\n",
            "Fila 492: False\n",
            "Fila 493: False\n",
            "Fila 494: False\n",
            "Fila 495: False\n",
            "Fila 496: False\n",
            "Fila 497: False\n",
            "Fila 498: False\n",
            "Fila 499: False\n",
            "Fila 500: False\n",
            "Fila 501: False\n",
            "Fila 502: False\n",
            "Fila 503: False\n",
            "Fila 504: False\n",
            "Fila 505: False\n",
            "Fila 506: False\n",
            "Fila 507: False\n",
            "Fila 508: False\n",
            "Fila 509: False\n",
            "Fila 510: False\n",
            "Fila 511: False\n",
            "Fila 512: False\n"
          ]
        }
      ]
    },
    {
      "cell_type": "markdown",
      "source": [
        "*Como se puede observar, las filas 42, 173 y 403 fueron eliminadas exitosamente.*"
      ],
      "metadata": {
        "id": "kAZo7DlTC8vQ"
      }
    },
    {
      "cell_type": "code",
      "source": [
        "# Comprobación de cómo quedó el dataset\n",
        "print(data.to_string())"
      ],
      "metadata": {
        "id": "OCMPB0p7Rduw"
      },
      "execution_count": null,
      "outputs": []
    },
    {
      "cell_type": "markdown",
      "source": [
        "<br>\n",
        "<br>\n",
        "\n",
        "## **Segunda parte**\n",
        "\n",
        "En esta sección se desplegarán algunos gráficos usando la librería MatPlotLib... realmente lo que se puede hacer aquí sólo está limitado por la imaginación.\n",
        "\n",
        "Empezaremos por lo más sencillo, algunos gráficos de barra tomando como dato las coumnas  `Año`, `Color` y `Carrocería`.\n"
      ],
      "metadata": {
        "id": "1KdxHl6SDp1A"
      }
    },
    {
      "source": [
        "# Contamos la frecuencia de cada año\n",
        "conteo_años = data['Año'].value_counts()\n",
        "\n",
        "# Creamos el gráfico de barras\n",
        "plt.bar(conteo_años.index, conteo_años.values)\n",
        "\n",
        "# Configuramos etiquetas y título\n",
        "plt.xlabel('Año')\n",
        "plt.ylabel('Frecuencia')\n",
        "plt.title('Distribución de Autos por Año', fontsize=16)\n",
        "\n",
        "# Mostramos el gráfico\n",
        "plt.show()"
      ],
      "cell_type": "code",
      "metadata": {
        "colab": {
          "base_uri": "https://localhost:8080/",
          "height": 475
        },
        "id": "fo7Gv8X5H8BB",
        "outputId": "c1f16eb6-a182-4e36-fb7b-eb7bf003661e"
      },
      "execution_count": null,
      "outputs": [
        {
          "output_type": "display_data",
          "data": {
            "text/plain": [
              "<Figure size 640x480 with 1 Axes>"
            ],
            "image/png": "[encoded data removed]"
          },
          "metadata": {}
        }
      ]
    },
    {
      "cell_type": "code",
      "source": [
        "# Contamos la frecuencia de cada año\n",
        "conteo_color = data['Color'].value_counts()\n",
        "\n",
        "# Creamos el gráfico de barras\n",
        "plt.bar(conteo_color.index, conteo_color.values)\n",
        "\n",
        "# Rotamos las etiquetas del eje 'x' para que se lean bien los valores\n",
        "plt.xticks(rotation=45)  # Aquí se puede ajustar el ángulo de rotación\n",
        "\n",
        "# Configuramos etiquetas y título\n",
        "plt.xlabel('Color')\n",
        "plt.ylabel('Frecuencia')\n",
        "plt.title('Distribución de Autos por Color', fontsize=16)\n",
        "\n",
        "# Mostramos el gráfico\n",
        "plt.show()"
      ],
      "metadata": {
        "colab": {
          "base_uri": "https://localhost:8080/",
          "height": 526
        },
        "id": "yyF3awYL_Obj",
        "outputId": "f1e6cfd7-2217-40df-aa2a-cb60b3c5914a"
      },
      "execution_count": null,
      "outputs": [
        {
          "output_type": "display_data",
          "data": {
            "text/plain": [
              "<Figure size 640x480 with 1 Axes>"
            ],
            "image/png": "[encoded data removed]"
          },
          "metadata": {}
        }
      ]
    },
    {
      "cell_type": "code",
      "source": [
        "# Contamos la frecuencia de cada año\n",
        "conteo_carroceria = data['Carrocería'].value_counts()\n",
        "\n",
        "# Creamos el gráfico de barras\n",
        "plt.bar(conteo_carroceria.index, conteo_carroceria.values)\n",
        "\n",
        "# Rotamos las etiquetas del eje 'x' para que se lean bien los valores\n",
        "plt.xticks(rotation=45)  # Aquí se puede ajustar el ángulo de rotación\n",
        "\n",
        "# Configuramos etiquetas y título\n",
        "plt.xlabel('Carrocería')\n",
        "plt.ylabel('Frecuencia')\n",
        "plt.title('Distribución de Autos por Carrocería', fontsize=16)\n",
        "\n",
        "# Mostramos el gráfico\n",
        "plt.show()"
      ],
      "metadata": {
        "colab": {
          "base_uri": "https://localhost:8080/",
          "height": 540
        },
        "id": "iHVj2JgMA5uN",
        "outputId": "276e4460-e715-473d-8380-97edbf2110f8"
      },
      "execution_count": null,
      "outputs": [
        {
          "output_type": "display_data",
          "data": {
            "text/plain": [
              "<Figure size 640x480 with 1 Axes>"
            ],
            "image/png": "[encoded data removed]"
          },
          "metadata": {}
        }
      ]
    },
    {
      "cell_type": "markdown",
      "source": [
        "<br>\n",
        "<br>\n",
        "\n",
        "Para las columnas donde hay almacenados datos bivariantes podemos generar gráficos de torta (pie chart), ya que representan mejor esta información. Nosotros tenemos datos bivariantes en las columnas `Caja` y `Moneda`.\n",
        "\n",
        "En el primer gráfico `conteo_caja.values` son los valores que se usarán para el tamaño de cada porción del gráfico; con `labels=conteo_caja.index` generamos las etiquetas para cada porción del gráfico; y con `autopct='%1.1f%%'` damos formato para mostrar los porcentajes dentro de cada porción:\n"
      ],
      "metadata": {
        "id": "X191j3w6CXOZ"
      }
    },
    {
      "cell_type": "code",
      "source": [
        "# Calculamos la frecuencia de cada valor en la columna 'Caja'\n",
        "conteo_caja = data['Caja'].value_counts()\n",
        "\n",
        "# Creamos el gráfico de torta\n",
        "plt.pie(conteo_caja.values, labels=conteo_caja.index, autopct='%1.1f%%')\n",
        "\n",
        "# Añadimos un título\n",
        "plt.title('Distribución de Autos por Tipo de Caja', fontsize=16)\n",
        "\n",
        "# Nos aseguramos que el gráfico sea un círculo\n",
        "plt.axis('equal')\n",
        "\n",
        "# Mostramos el gráfico\n",
        "plt.show()"
      ],
      "metadata": {
        "colab": {
          "base_uri": "https://localhost:8080/",
          "height": 432
        },
        "id": "bgBC8Q69DPX0",
        "outputId": "be37168e-cf4f-4f65-8bec-ff342a4c670f"
      },
      "execution_count": null,
      "outputs": [
        {
          "output_type": "display_data",
          "data": {
            "text/plain": [
              "<Figure size 640x480 with 1 Axes>"
            ],
            "image/png": "[encoded data removed]"
          },
          "metadata": {}
        }
      ]
    },
    {
      "cell_type": "code",
      "source": [
        "# Calculamos la frecuencia de cada valor en la columna 'Moneda'\n",
        "conteo_moneda = data['Moneda'].value_counts()\n",
        "\n",
        "# Creamos el gráfico de torta\n",
        "plt.pie(conteo_moneda.values, labels=conteo_moneda.index, autopct='%1.1f%%')\n",
        "\n",
        "# Añadimos un título\n",
        "plt.title('Distribución de Autos por Tipo de Moneda', fontsize=16)\n",
        "\n",
        "# Nos aseguramos que el gráfico sea un círculo\n",
        "plt.axis('equal')\n",
        "\n",
        "# Mostramos el gráfico\n",
        "plt.show()"
      ],
      "metadata": {
        "colab": {
          "base_uri": "https://localhost:8080/",
          "height": 432
        },
        "outputId": "0b5e1851-0b17-443e-88d8-778cbdab5d1a",
        "id": "PFi1ZE9aEyVd"
      },
      "execution_count": null,
      "outputs": [
        {
          "output_type": "display_data",
          "data": {
            "text/plain": [
              "<Figure size 640x480 with 1 Axes>"
            ],
            "image/png": "[encoded data removed]"
          },
          "metadata": {}
        }
      ]
    },
    {
      "cell_type": "markdown",
      "source": [
        "<br>\n",
        "<br>\n",
        "\n",
        "Una opción de gráfico muy interesante para mostrar es el gráfico de \"Treemap\", también llamado gráfico de mosaico o gráfico de área rectangular. Es interesante sobre todo cuando se tienen valores muy variados, porque se puede representar visualmente a todos de una sola vez.\n",
        "\n",
        "Hay que tener en cuenta que no se puede generar un gráfico de Treemap con `pyplot` directamente ya que esta librería no tiene una función específica para crear gráficos de Treemap. Sin embargo, se puede utilizar la biblioteca `squarify` para crear un gráfico de Treemap en Python. `squarify` proporciona una función llamada `squarify.plot` que se puede utilizar para crear Treemaps.\n"
      ],
      "metadata": {
        "id": "-3BChL4BP2JC"
      }
    },
    {
      "cell_type": "code",
      "source": [
        "# Instalamos e importamos la biblioteca\n",
        "!pip install squarify\n",
        "import squarify\n",
        "\n",
        "# Calculamos la frecuencia de cada modelo\n",
        "conteo_modelo = data['Modelo'].value_counts()\n",
        "\n",
        "# Extraemos los valores de frecuencia como una lista, que serán usados como tamaños\n",
        "# para los rectángulos en el treemap\n",
        "# Multiplicamos todo por 2 para aumentar el tamaño de los rectángulos\n",
        "sizes = conteo_modelo.values * 2\n",
        "\n",
        "# Extraemos los nombres de los modelos como una lista, que serán usados como\n",
        "# etiquetas para los rectángulos\n",
        "labels = conteo_modelo.index\n",
        "\n",
        "# Creamos el treemap\n",
        "squarify.plot(sizes=sizes, label=labels, alpha=.8)\n",
        "\n",
        "# Ajustamos el diseño\n",
        "plt.axis('off')\n",
        "plt.title('Distribución de Autos por Modelo', fontsize=16)\n",
        "\n",
        "# Muestramos el gráfico\n",
        "plt.show()"
      ],
      "metadata": {
        "colab": {
          "base_uri": "https://localhost:8080/",
          "height": 450
        },
        "id": "dBLR5I6YHx5l",
        "outputId": "cf795bd9-bf68-40d1-f06e-32d114c440c3"
      },
      "execution_count": null,
      "outputs": [
        {
          "output_type": "stream",
          "name": "stdout",
          "text": [
            "Requirement already satisfied: squarify in /usr/local/lib/python3.10/dist-packages (0.4.3)\n"
          ]
        },
        {
          "output_type": "display_data",
          "data": {
            "text/plain": [
              "<Figure size 640x480 with 1 Axes>"
            ],
            "image/png": "[encoded data removed]"
          },
          "metadata": {}
        }
      ]
    },
    {
      "cell_type": "markdown",
      "source": [
        "<br>\n",
        "<br>\n",
        "\n",
        "Por último, para determinar si los datos son simétricos o asimétricos, vamos a utilizar gráficos de distribución de frecuencias, en nuestro caso histogramas. Este gráfico muestra la frecuencia de los valores de una variable en función de su distancia a la media de la distribución. Si la distribución es simétrica, el gráfico tendrá una forma de campana, con la mayoría de los valores concentrados en torno a la media y una cola que se extiende hacia ambos lados de manera simétrica.\n",
        "\n",
        "En el caso de una distribución asimétrica, el gráfico mostrará una cola más larga hacia un lado que hacia el otro, lo que indica que los valores están más dispersos en una dirección específica. La asimetría puede ser positiva (a la derecha) o negativa (a la izquierda).\n",
        "\n",
        "<br>\n",
        "\n",
        "En este proyecto vamos a analizar la distribución de frecuencias del tamaño del `Motor` y la cantidad de `Kilómetros` que tiene el vehículo (el resto de las medidas descriptivas de las variables en base a su tipo ya se entregaron con la primera parte, la cual está desarrollada más arriba en esta misma notebook):\n"
      ],
      "metadata": {
        "id": "eEYO78ibVs5x"
      }
    },
    {
      "cell_type": "code",
      "source": [
        "plt.hist(data['Motor'], bins=10)  # Ajustamos el número de bins según sea necesario\n",
        "plt.xlabel('Valor del Motor')\n",
        "plt.ylabel('Frecuencia')\n",
        "plt.title('Distribución de Valores de Motor', fontsize=16)\n",
        "plt.show()"
      ],
      "metadata": {
        "colab": {
          "base_uri": "https://localhost:8080/",
          "height": 474
        },
        "id": "EdlDH075Whb0",
        "outputId": "c35af264-f3da-415b-d7d6-ea897524b8bc"
      },
      "execution_count": null,
      "outputs": [
        {
          "output_type": "display_data",
          "data": {
            "text/plain": [
              "<Figure size 640x480 with 1 Axes>"
            ],
            "image/png": "[encoded data removed]"
          },
          "metadata": {}
        }
      ]
    },
    {
      "cell_type": "markdown",
      "source": [
        "**Aclaración:** en un histograma, los `bins` (o \"contenedores\") son los intervalos en los que se divide el rango total de valores de la variable numérica que se está analizando. Cada bin representa un rango específico de valores, y la altura de la barra correspondiente a ese bin indica la frecuencia (cantidad de observaciones) que caen dentro de ese rango.\n",
        "\n",
        "Por ejemplo, si se está analizando la columna `Motor` y estableces `bins=10`, el histograma dividirá el rango de valores de `Motor` en 10 intervalos iguales. Cada barra del histograma mostrará cuántos autos tienen un valor de `Motor` dentro de cada uno de esos intervalos.\n",
        "\n",
        "*Como se puede ver, en nuestro conjunto de valores para el tamaño del `Motor`, tenemos una distribución asimétrica positiva.*\n"
      ],
      "metadata": {
        "id": "USbq2zS6fx3Z"
      }
    },
    {
      "cell_type": "code",
      "source": [
        "plt.hist(data['Kilómetros'], bins=10)  # Ajustamos el número de bins según sea necesario\n",
        "plt.xlabel('Valor del Kilómetros')\n",
        "plt.ylabel('Frecuencia')\n",
        "plt.title('Distribución de Valores de Kilómetros', fontsize=16)\n",
        "plt.show()"
      ],
      "metadata": {
        "colab": {
          "base_uri": "https://localhost:8080/",
          "height": 474
        },
        "outputId": "56d41d02-6c79-4afb-da33-f7a887d73cf8",
        "id": "uoPVaRESgCJw"
      },
      "execution_count": null,
      "outputs": [
        {
          "output_type": "display_data",
          "data": {
            "text/plain": [
              "<Figure size 640x480 with 1 Axes>"
            ],
            "image/png": "[encoded data removed]"
          },
          "metadata": {}
        }
      ]
    },
    {
      "cell_type": "markdown",
      "source": [
        "*Misma forma de distribución asimétrica que antes, pero ahora se puede observar con más claridad.*\n"
      ],
      "metadata": {
        "id": "rqO6RmqRgxa2"
      }
    }
  ]
}